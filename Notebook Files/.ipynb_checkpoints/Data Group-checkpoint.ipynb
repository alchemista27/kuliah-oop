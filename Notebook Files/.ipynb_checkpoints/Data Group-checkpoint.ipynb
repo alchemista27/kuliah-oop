{
 "cells": [
  {
   "cell_type": "markdown",
   "id": "surprising-memphis",
   "metadata": {},
   "source": [
    "# Data Group\n",
    "data group merupakan kelompok data yang diatur sedemikian rupa, dengan karakteristik khusus tertentu.\n",
    "\n",
    "1. List\n",
    "2. Dictionary\n",
    "3. Tuples\n",
    "4. Sets"
   ]
  },
  {
   "cell_type": "code",
   "execution_count": 2,
   "id": "charitable-administration",
   "metadata": {},
   "outputs": [],
   "source": [
    "#list\n",
    "daftar = [1,2,3,4]"
   ]
  },
  {
   "cell_type": "code",
   "execution_count": 3,
   "id": "dying-proof",
   "metadata": {},
   "outputs": [
    {
     "data": {
      "text/plain": [
       "list"
      ]
     },
     "execution_count": 3,
     "metadata": {},
     "output_type": "execute_result"
    }
   ],
   "source": [
    "type(daftar)"
   ]
  },
  {
   "cell_type": "code",
   "execution_count": 4,
   "id": "raising-president",
   "metadata": {},
   "outputs": [
    {
     "data": {
      "text/plain": [
       "4"
      ]
     },
     "execution_count": 4,
     "metadata": {},
     "output_type": "execute_result"
    }
   ],
   "source": [
    "len(daftar)"
   ]
  },
  {
   "cell_type": "code",
   "execution_count": 5,
   "id": "latin-boating",
   "metadata": {},
   "outputs": [
    {
     "data": {
      "text/plain": [
       "4"
      ]
     },
     "execution_count": 5,
     "metadata": {},
     "output_type": "execute_result"
    }
   ],
   "source": [
    "daftar[3]"
   ]
  },
  {
   "cell_type": "code",
   "execution_count": 6,
   "id": "focal-private",
   "metadata": {},
   "outputs": [],
   "source": [
    "daftar_baru = daftar[0:2]"
   ]
  },
  {
   "cell_type": "code",
   "execution_count": 7,
   "id": "awful-creativity",
   "metadata": {},
   "outputs": [
    {
     "name": "stdout",
     "output_type": "stream",
     "text": [
      "[1, 2]\n"
     ]
    }
   ],
   "source": [
    "print(daftar_baru)"
   ]
  },
  {
   "cell_type": "code",
   "execution_count": 8,
   "id": "descending-genealogy",
   "metadata": {},
   "outputs": [
    {
     "data": {
      "text/plain": [
       "2"
      ]
     },
     "execution_count": 8,
     "metadata": {},
     "output_type": "execute_result"
    }
   ],
   "source": [
    "len(daftar_baru)"
   ]
  },
  {
   "cell_type": "code",
   "execution_count": 9,
   "id": "decreased-shoulder",
   "metadata": {},
   "outputs": [
    {
     "data": {
      "text/plain": [
       "[1, 2, 3, 4, 'lima']"
      ]
     },
     "execution_count": 9,
     "metadata": {},
     "output_type": "execute_result"
    }
   ],
   "source": [
    "daftar + ['lima']"
   ]
  },
  {
   "cell_type": "code",
   "execution_count": 10,
   "id": "engaged-milton",
   "metadata": {},
   "outputs": [
    {
     "data": {
      "text/plain": [
       "4"
      ]
     },
     "execution_count": 10,
     "metadata": {},
     "output_type": "execute_result"
    }
   ],
   "source": [
    "len(daftar)"
   ]
  },
  {
   "cell_type": "code",
   "execution_count": 11,
   "id": "outstanding-cruise",
   "metadata": {},
   "outputs": [],
   "source": [
    "daftar_baru = daftar + [\"lima\"]"
   ]
  },
  {
   "cell_type": "code",
   "execution_count": 12,
   "id": "preceding-wellington",
   "metadata": {},
   "outputs": [
    {
     "data": {
      "text/plain": [
       "5"
      ]
     },
     "execution_count": 12,
     "metadata": {},
     "output_type": "execute_result"
    }
   ],
   "source": [
    "len(daftar_baru)"
   ]
  },
  {
   "cell_type": "code",
   "execution_count": 13,
   "id": "spiritual-tobago",
   "metadata": {},
   "outputs": [
    {
     "name": "stdout",
     "output_type": "stream",
     "text": [
      "[1, 2, 3, 4, 'lima']\n"
     ]
    }
   ],
   "source": [
    "print(daftar_baru)"
   ]
  },
  {
   "cell_type": "code",
   "execution_count": 14,
   "id": "logical-jacket",
   "metadata": {},
   "outputs": [
    {
     "data": {
      "text/plain": [
       "4"
      ]
     },
     "execution_count": 14,
     "metadata": {},
     "output_type": "execute_result"
    }
   ],
   "source": [
    "daftar_baru.pop(3)"
   ]
  },
  {
   "cell_type": "code",
   "execution_count": 15,
   "id": "hungry-secret",
   "metadata": {},
   "outputs": [
    {
     "name": "stdout",
     "output_type": "stream",
     "text": [
      "[1, 2, 3, 'lima']\n"
     ]
    }
   ],
   "source": [
    "print(daftar_baru)"
   ]
  },
  {
   "cell_type": "code",
   "execution_count": 16,
   "id": "derived-employer",
   "metadata": {},
   "outputs": [
    {
     "data": {
      "text/plain": [
       "[1, 2, 3, 'lima', 1, 2, 3, 'lima', 1, 2, 3, 'lima', 1, 2, 3, 'lima']"
      ]
     },
     "execution_count": 16,
     "metadata": {},
     "output_type": "execute_result"
    }
   ],
   "source": [
    "daftar_baru*4"
   ]
  },
  {
   "cell_type": "code",
   "execution_count": 17,
   "id": "innovative-commodity",
   "metadata": {},
   "outputs": [],
   "source": [
    "#Dictionary\n",
    "kamus = {'c':10,'z':'pintar','a':'cerdas'}"
   ]
  },
  {
   "cell_type": "code",
   "execution_count": 21,
   "id": "danish-chapter",
   "metadata": {},
   "outputs": [
    {
     "data": {
      "text/plain": [
       "'pintar'"
      ]
     },
     "execution_count": 21,
     "metadata": {},
     "output_type": "execute_result"
    }
   ],
   "source": [
    "kamus['z']"
   ]
  },
  {
   "cell_type": "code",
   "execution_count": 22,
   "id": "everyday-carry",
   "metadata": {},
   "outputs": [
    {
     "data": {
      "text/plain": [
       "10"
      ]
     },
     "execution_count": 22,
     "metadata": {},
     "output_type": "execute_result"
    }
   ],
   "source": [
    "kamus[\"c\"]"
   ]
  },
  {
   "cell_type": "code",
   "execution_count": 2,
   "id": "reliable-bench",
   "metadata": {},
   "outputs": [],
   "source": [
    "#Tuple ditandai dengan kurung biasa, dipisahkan dengan koma\n",
    "t = (1,2.0,3,4,\"lima\")"
   ]
  },
  {
   "cell_type": "code",
   "execution_count": 3,
   "id": "civilian-wings",
   "metadata": {},
   "outputs": [
    {
     "data": {
      "text/plain": [
       "{1, 2, 3, 4, 5, 6}"
      ]
     },
     "execution_count": 3,
     "metadata": {},
     "output_type": "execute_result"
    }
   ],
   "source": [
    "#sets\n",
    "list1 = [1,1,2,2,3,4,5,6,1,1]\n",
    "\n",
    "set(list1)"
   ]
  },
  {
   "cell_type": "code",
   "execution_count": 4,
   "id": "communist-andrew",
   "metadata": {},
   "outputs": [],
   "source": [
    "t2 = (1,1,1,1,1,1,1)"
   ]
  },
  {
   "cell_type": "code",
   "execution_count": 5,
   "id": "nutritional-cancer",
   "metadata": {},
   "outputs": [
    {
     "data": {
      "text/plain": [
       "{1}"
      ]
     },
     "execution_count": 5,
     "metadata": {},
     "output_type": "execute_result"
    }
   ],
   "source": [
    "list2 = [1,1,1,1,1,1,1]\n",
    "\n",
    "set(list2)"
   ]
  },
  {
   "cell_type": "code",
   "execution_count": null,
   "id": "ultimate-invite",
   "metadata": {},
   "outputs": [],
   "source": []
  }
 ],
 "metadata": {
  "kernelspec": {
   "display_name": "Python 3",
   "language": "python",
   "name": "python3"
  },
  "language_info": {
   "codemirror_mode": {
    "name": "ipython",
    "version": 3
   },
   "file_extension": ".py",
   "mimetype": "text/x-python",
   "name": "python",
   "nbconvert_exporter": "python",
   "pygments_lexer": "ipython3",
   "version": "3.9.0"
  }
 },
 "nbformat": 4,
 "nbformat_minor": 5
}
