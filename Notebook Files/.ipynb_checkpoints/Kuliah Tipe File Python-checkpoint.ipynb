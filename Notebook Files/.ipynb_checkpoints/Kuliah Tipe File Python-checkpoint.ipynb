{
 "cells": [
  {
   "cell_type": "markdown",
   "id": "coastal-electron",
   "metadata": {},
   "source": [
    "Hari ini saya akan menjelaskan tentang tipe file di Python 3"
   ]
  },
  {
   "cell_type": "markdown",
   "id": "suited-march",
   "metadata": {},
   "source": [
    "# Numbers\n",
    "numbers ada dua jenis:\n",
    "1. Interger\n",
    "2. Floating Point"
   ]
  },
  {
   "cell_type": "code",
   "execution_count": 2,
   "id": "early-stick",
   "metadata": {},
   "outputs": [],
   "source": [
    "x = 3"
   ]
  },
  {
   "cell_type": "code",
   "execution_count": 3,
   "id": "russian-prague",
   "metadata": {},
   "outputs": [
    {
     "data": {
      "text/plain": [
       "int"
      ]
     },
     "execution_count": 3,
     "metadata": {},
     "output_type": "execute_result"
    }
   ],
   "source": [
    "type (x)"
   ]
  },
  {
   "cell_type": "code",
   "execution_count": 4,
   "id": "aggressive-spelling",
   "metadata": {},
   "outputs": [],
   "source": [
    "y = 3.0"
   ]
  },
  {
   "cell_type": "code",
   "execution_count": 5,
   "id": "through-suffering",
   "metadata": {},
   "outputs": [
    {
     "data": {
      "text/plain": [
       "float"
      ]
     },
     "execution_count": 5,
     "metadata": {},
     "output_type": "execute_result"
    }
   ],
   "source": [
    "type (y)"
   ]
  },
  {
   "cell_type": "code",
   "execution_count": 7,
   "id": "synthetic-ranking",
   "metadata": {},
   "outputs": [],
   "source": [
    "z = x*y"
   ]
  },
  {
   "cell_type": "code",
   "execution_count": 8,
   "id": "published-asian",
   "metadata": {},
   "outputs": [
    {
     "name": "stdout",
     "output_type": "stream",
     "text": [
      "9.0\n"
     ]
    }
   ],
   "source": [
    "print (z)"
   ]
  },
  {
   "cell_type": "code",
   "execution_count": 9,
   "id": "european-reliance",
   "metadata": {},
   "outputs": [
    {
     "data": {
      "text/plain": [
       "float"
      ]
     },
     "execution_count": 9,
     "metadata": {},
     "output_type": "execute_result"
    }
   ],
   "source": [
    "type (z)"
   ]
  },
  {
   "cell_type": "code",
   "execution_count": 10,
   "id": "acute-demand",
   "metadata": {},
   "outputs": [],
   "source": [
    "x = 10"
   ]
  },
  {
   "cell_type": "code",
   "execution_count": 11,
   "id": "received-ambassador",
   "metadata": {},
   "outputs": [],
   "source": [
    "y = 4"
   ]
  },
  {
   "cell_type": "code",
   "execution_count": 12,
   "id": "guilty-benefit",
   "metadata": {},
   "outputs": [
    {
     "name": "stdout",
     "output_type": "stream",
     "text": [
      "2.5\n"
     ]
    }
   ],
   "source": [
    "z = x/y\n",
    "print (z)"
   ]
  },
  {
   "cell_type": "code",
   "execution_count": 13,
   "id": "other-vintage",
   "metadata": {},
   "outputs": [
    {
     "data": {
      "text/plain": [
       "float"
      ]
     },
     "execution_count": 13,
     "metadata": {},
     "output_type": "execute_result"
    }
   ],
   "source": [
    "type (z)"
   ]
  },
  {
   "cell_type": "markdown",
   "id": "pointed-albany",
   "metadata": {},
   "source": [
    "# Strings\n",
    "strings adalah karakter berurutan yang dapat diubah (mutable)"
   ]
  },
  {
   "cell_type": "code",
   "execution_count": 14,
   "id": "studied-formation",
   "metadata": {},
   "outputs": [],
   "source": [
    "z = 'abc'"
   ]
  },
  {
   "cell_type": "code",
   "execution_count": 15,
   "id": "exempt-shopper",
   "metadata": {},
   "outputs": [
    {
     "data": {
      "text/plain": [
       "str"
      ]
     },
     "execution_count": 15,
     "metadata": {},
     "output_type": "execute_result"
    }
   ],
   "source": [
    "type (z)"
   ]
  },
  {
   "cell_type": "code",
   "execution_count": 16,
   "id": "distinct-jordan",
   "metadata": {},
   "outputs": [],
   "source": [
    "a = '123'"
   ]
  },
  {
   "cell_type": "code",
   "execution_count": 17,
   "id": "encouraging-energy",
   "metadata": {},
   "outputs": [
    {
     "data": {
      "text/plain": [
       "str"
      ]
     },
     "execution_count": 17,
     "metadata": {},
     "output_type": "execute_result"
    }
   ],
   "source": [
    "type (a)"
   ]
  },
  {
   "cell_type": "code",
   "execution_count": 18,
   "id": "suffering-china",
   "metadata": {},
   "outputs": [],
   "source": [
    "my_file = \"aku suka Python3\""
   ]
  },
  {
   "cell_type": "code",
   "execution_count": 19,
   "id": "jewish-nightmare",
   "metadata": {},
   "outputs": [
    {
     "data": {
      "text/plain": [
       "str"
      ]
     },
     "execution_count": 19,
     "metadata": {},
     "output_type": "execute_result"
    }
   ],
   "source": [
    "type (my_file)"
   ]
  },
  {
   "cell_type": "markdown",
   "id": "adolescent-bronze",
   "metadata": {},
   "source": [
    "# Boolean\n",
    "true or false"
   ]
  },
  {
   "cell_type": "code",
   "execution_count": 22,
   "id": "specified-allah",
   "metadata": {},
   "outputs": [
    {
     "data": {
      "text/plain": [
       "False"
      ]
     },
     "execution_count": 22,
     "metadata": {},
     "output_type": "execute_result"
    }
   ],
   "source": [
    "x = 10\n",
    "y = 3\n",
    "\n",
    "x==y"
   ]
  },
  {
   "cell_type": "code",
   "execution_count": 23,
   "id": "surgical-aspect",
   "metadata": {},
   "outputs": [
    {
     "data": {
      "text/plain": [
       "True"
      ]
     },
     "execution_count": 23,
     "metadata": {},
     "output_type": "execute_result"
    }
   ],
   "source": [
    "a = 5\n",
    "b = 5.0\n",
    "\n",
    "a==b"
   ]
  },
  {
   "cell_type": "markdown",
   "id": "blessed-right",
   "metadata": {},
   "source": [
    "# Group Data\n",
    "1. Sets\n",
    "2. Dictionary\n",
    "3. List\n",
    "4. Tuples"
   ]
  },
  {
   "cell_type": "code",
   "execution_count": null,
   "id": "complimentary-bridge",
   "metadata": {},
   "outputs": [],
   "source": []
  }
 ],
 "metadata": {
  "kernelspec": {
   "display_name": "Python 3",
   "language": "python",
   "name": "python3"
  },
  "language_info": {
   "codemirror_mode": {
    "name": "ipython",
    "version": 3
   },
   "file_extension": ".py",
   "mimetype": "text/x-python",
   "name": "python",
   "nbconvert_exporter": "python",
   "pygments_lexer": "ipython3",
   "version": "3.9.0"
  }
 },
 "nbformat": 4,
 "nbformat_minor": 5
}
