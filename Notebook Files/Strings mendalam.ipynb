{
 "cells": [
  {
   "cell_type": "code",
   "execution_count": 1,
   "id": "textile-corrections",
   "metadata": {},
   "outputs": [
    {
     "name": "stdout",
     "output_type": "stream",
     "text": [
      "Septian Jauhariansyah, M.Pd.\n"
     ]
    }
   ],
   "source": [
    "saya = \"Septian Jauhariansyah, M.Pd.\"\n",
    "\n",
    "print (saya)"
   ]
  },
  {
   "cell_type": "code",
   "execution_count": 2,
   "id": "ancient-abuse",
   "metadata": {},
   "outputs": [
    {
     "name": "stdout",
     "output_type": "stream",
     "text": [
      "Septian Jauhariansyah, M.Pd.\n"
     ]
    }
   ],
   "source": [
    "print (\"Septian Jauhariansyah, M.Pd.\")"
   ]
  },
  {
   "cell_type": "code",
   "execution_count": 4,
   "id": "amber-preserve",
   "metadata": {},
   "outputs": [
    {
     "data": {
      "text/plain": [
       "str"
      ]
     },
     "execution_count": 4,
     "metadata": {},
     "output_type": "execute_result"
    }
   ],
   "source": [
    "type (saya)"
   ]
  },
  {
   "cell_type": "code",
   "execution_count": 5,
   "id": "global-dominican",
   "metadata": {},
   "outputs": [
    {
     "data": {
      "text/plain": [
       "'c'"
      ]
     },
     "execution_count": 5,
     "metadata": {},
     "output_type": "execute_result"
    }
   ],
   "source": [
    "#string indexing\n",
    "string_saya = 'abcdefg'\n",
    "\n",
    "string_saya[2]"
   ]
  },
  {
   "cell_type": "code",
   "execution_count": 6,
   "id": "positive-palmer",
   "metadata": {},
   "outputs": [
    {
     "data": {
      "text/plain": [
       "'a'"
      ]
     },
     "execution_count": 6,
     "metadata": {},
     "output_type": "execute_result"
    }
   ],
   "source": [
    "string_saya[0]"
   ]
  },
  {
   "cell_type": "code",
   "execution_count": 10,
   "id": "built-finger",
   "metadata": {},
   "outputs": [
    {
     "data": {
      "text/plain": [
       "'Udin'"
      ]
     },
     "execution_count": 10,
     "metadata": {},
     "output_type": "execute_result"
    }
   ],
   "source": [
    "#string slicing\n",
    "\n",
    "nama = 'Udin Sedunia'\n",
    "\n",
    "nama[0:4]"
   ]
  },
  {
   "cell_type": "code",
   "execution_count": null,
   "id": "welcome-professor",
   "metadata": {},
   "outputs": [],
   "source": [
    "nama[0:6]"
   ]
  },
  {
   "cell_type": "code",
   "execution_count": 12,
   "id": "architectural-relationship",
   "metadata": {},
   "outputs": [
    {
     "data": {
      "text/plain": [
       "'e'"
      ]
     },
     "execution_count": 12,
     "metadata": {},
     "output_type": "execute_result"
    }
   ],
   "source": [
    "nama[6]"
   ]
  },
  {
   "cell_type": "code",
   "execution_count": 16,
   "id": "psychological-calcium",
   "metadata": {},
   "outputs": [
    {
     "name": "stdout",
     "output_type": "stream",
     "text": [
      "Nama dosen pengampu MK OOP adalah Septian Jauhariansyah, M.Pd.\n"
     ]
    }
   ],
   "source": [
    "#Strings print formating\n",
    "\n",
    "nama = \"Septian Jauhariansyah, M.Pd.\"\n",
    "\n",
    "print(f'Nama dosen pengampu MK OOP adalah {nama}')"
   ]
  },
  {
   "cell_type": "markdown",
   "id": "solved-height",
   "metadata": {},
   "source": [
    "# Tugas Anda\n",
    "\n",
    "1. Cari tahu teknik print formating lain untuk string\n",
    "2. Gunakan teknik tersebut untuk menuliskan nama kalian dengan menggunakan variabel yang didefinisikan terlebih dahulu.\n",
    "3. Upload code tersebut dalam bentuk file jupyter notebook ke dalam github kalian masing2"
   ]
  },
  {
   "cell_type": "code",
   "execution_count": null,
   "id": "forward-extraction",
   "metadata": {},
   "outputs": [],
   "source": []
  }
 ],
 "metadata": {
  "kernelspec": {
   "display_name": "Python 3",
   "language": "python",
   "name": "python3"
  },
  "language_info": {
   "codemirror_mode": {
    "name": "ipython",
    "version": 3
   },
   "file_extension": ".py",
   "mimetype": "text/x-python",
   "name": "python",
   "nbconvert_exporter": "python",
   "pygments_lexer": "ipython3",
   "version": "3.9.0"
  }
 },
 "nbformat": 4,
 "nbformat_minor": 5
}
