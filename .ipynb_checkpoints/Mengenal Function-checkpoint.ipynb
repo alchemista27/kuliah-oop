{
 "cells": [
  {
   "cell_type": "code",
   "execution_count": 1,
   "id": "basic-america",
   "metadata": {},
   "outputs": [],
   "source": [
    "def nama_fungsi():\n",
    "    print ('Hallo Semua')"
   ]
  },
  {
   "cell_type": "code",
   "execution_count": 2,
   "id": "pleased-humanity",
   "metadata": {},
   "outputs": [
    {
     "name": "stdout",
     "output_type": "stream",
     "text": [
      "Hallo Semua\n"
     ]
    }
   ],
   "source": [
    "nama_fungsi()"
   ]
  },
  {
   "cell_type": "code",
   "execution_count": 11,
   "id": "satisfied-behalf",
   "metadata": {},
   "outputs": [],
   "source": [
    "def fungsi_halo(nama):\n",
    "    print(\"Halo \"+nama)"
   ]
  },
  {
   "cell_type": "code",
   "execution_count": 12,
   "id": "photographic-johns",
   "metadata": {},
   "outputs": [
    {
     "name": "stdout",
     "output_type": "stream",
     "text": [
      "Halo septian\n"
     ]
    }
   ],
   "source": [
    "fungsi_halo(\"septian\")"
   ]
  },
  {
   "cell_type": "code",
   "execution_count": 13,
   "id": "filled-warren",
   "metadata": {},
   "outputs": [],
   "source": [
    "def fungsi_jumlah(a,b):\n",
    "    return a+b"
   ]
  },
  {
   "cell_type": "code",
   "execution_count": 14,
   "id": "golden-upgrade",
   "metadata": {},
   "outputs": [
    {
     "data": {
      "text/plain": [
       "3"
      ]
     },
     "execution_count": 14,
     "metadata": {},
     "output_type": "execute_result"
    }
   ],
   "source": [
    "fungsi_jumlah(1,2)"
   ]
  },
  {
   "cell_type": "code",
   "execution_count": 15,
   "id": "contemporary-standing",
   "metadata": {},
   "outputs": [],
   "source": [
    "def fungsi_jumlah1(a,b):\n",
    "    print (a+b)"
   ]
  },
  {
   "cell_type": "code",
   "execution_count": 16,
   "id": "norwegian-lemon",
   "metadata": {},
   "outputs": [
    {
     "name": "stdout",
     "output_type": "stream",
     "text": [
      "3\n"
     ]
    }
   ],
   "source": [
    "fungsi_jumlah1(1,2)"
   ]
  },
  {
   "cell_type": "code",
   "execution_count": 19,
   "id": "naval-macedonia",
   "metadata": {},
   "outputs": [],
   "source": [
    "hasil = fungsi_jumlah(2,3)"
   ]
  },
  {
   "cell_type": "code",
   "execution_count": 20,
   "id": "aggressive-worthy",
   "metadata": {},
   "outputs": [
    {
     "data": {
      "text/plain": [
       "5"
      ]
     },
     "execution_count": 20,
     "metadata": {},
     "output_type": "execute_result"
    }
   ],
   "source": [
    "hasil"
   ]
  },
  {
   "cell_type": "code",
   "execution_count": 21,
   "id": "artificial-reviewer",
   "metadata": {},
   "outputs": [
    {
     "data": {
      "text/plain": [
       "5"
      ]
     },
     "execution_count": 21,
     "metadata": {},
     "output_type": "execute_result"
    }
   ],
   "source": [
    "hasil"
   ]
  },
  {
   "cell_type": "code",
   "execution_count": 24,
   "id": "excess-australia",
   "metadata": {},
   "outputs": [
    {
     "name": "stdout",
     "output_type": "stream",
     "text": [
      "5\n"
     ]
    }
   ],
   "source": [
    "hasil1 = fungsi_jumlah1(2,3)"
   ]
  },
  {
   "cell_type": "code",
   "execution_count": 25,
   "id": "reliable-travel",
   "metadata": {},
   "outputs": [],
   "source": [
    "hasil1"
   ]
  },
  {
   "cell_type": "code",
   "execution_count": 26,
   "id": "present-munich",
   "metadata": {},
   "outputs": [
    {
     "data": {
      "text/plain": [
       "NoneType"
      ]
     },
     "execution_count": 26,
     "metadata": {},
     "output_type": "execute_result"
    }
   ],
   "source": [
    "type(hasil1)"
   ]
  },
  {
   "cell_type": "code",
   "execution_count": 27,
   "id": "developed-machine",
   "metadata": {},
   "outputs": [
    {
     "data": {
      "text/plain": [
       "int"
      ]
     },
     "execution_count": 27,
     "metadata": {},
     "output_type": "execute_result"
    }
   ],
   "source": [
    "type(hasil)"
   ]
  },
  {
   "cell_type": "code",
   "execution_count": null,
   "id": "civilian-syntax",
   "metadata": {},
   "outputs": [],
   "source": []
  }
 ],
 "metadata": {
  "kernelspec": {
   "display_name": "Python 3",
   "language": "python",
   "name": "python3"
  },
  "language_info": {
   "codemirror_mode": {
    "name": "ipython",
    "version": 3
   },
   "file_extension": ".py",
   "mimetype": "text/x-python",
   "name": "python",
   "nbconvert_exporter": "python",
   "pygments_lexer": "ipython3",
   "version": "3.9.0"
  }
 },
 "nbformat": 4,
 "nbformat_minor": 5
}
